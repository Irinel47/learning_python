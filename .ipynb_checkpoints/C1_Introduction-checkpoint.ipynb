{
 "cells": [
  {
   "cell_type": "markdown",
   "id": "f272aff5-a60f-49c8-a2e0-2d7831f2c214",
   "metadata": {},
   "source": [
    "# 📌 Chapter 1: Introduction to Python for Data Analysis"
   ]
  },
  {
   "cell_type": "markdown",
   "id": "89e8c8b1-9ead-4f6b-a861-b4c1d49847cb",
   "metadata": {},
   "source": [
    "## 1. Why Python for Data Analysis?\n",
    "Python is one of the most widely used languages for data analysis and data science due to:  \n",
    "\n",
    "✅ Easy to Learn – Simple syntax compared to R, Java, etc.  \n",
    "✅ Rich Libraries – Includes NumPy, Pandas, Matplotlib, Scikit-learn for data tasks.  \n",
    "✅ Versatile – Used for data analysis, automation, web scraping, machine learning, and more.  \n",
    "✅ SQL & Big Data Integration – Works well with SQL databases, Hadoop, Spark, and cloud platforms.  \n",
    "✅ Large Community & Resources – Tons of free learning materials and support.  "
   ]
  },
  {
   "cell_type": "markdown",
   "id": "501b61cd-58da-43ab-bfd4-bb24e09380b9",
   "metadata": {},
   "source": [
    "## 2. Installing Python & Setting Up Jupyter Notebook  \n",
    "Option 1: Install Anaconda (Recommended)  \n",
    "Anaconda is a Python distribution that comes with Jupyter Notebook and many data science libraries pre-installed.  \n",
    "\n",
    "🔹 Step 1: Download Anaconda → Visit Anaconda's Website (https://www.anaconda.com/)   \n",
    "🔹 Step 2: Install Anaconda (Follow on-screen instructions)  \n",
    "🔹 Step 3: Launch Jupyter Notebook  \n",
    "\n",
    "~ Open Anaconda Navigator → Click Jupyter Notebook  \n",
    "~ OR open a terminal and run: jupyter notebook  \n",
    "\n",
    "Option 2: Install Python & Jupyter Manually  \n",
    "If you prefer a lightweight installation, install Python and Jupyter separately.  \n",
    "\n",
    "🔹 Step 1: Install Python → Download Python (https://www.python.org/)  \n",
    "🔹 Step 2: Install Jupyter Notebook - open a terminal and run: pip install jupyter  \n",
    "🔹 Step 3: Launch Jupyter Notebook - open a terminal and run: jupyter notebook  "
   ]
  },
  {
   "cell_type": "markdown",
   "id": "d40d6ffa-f62b-4644-abce-59700e7b053e",
   "metadata": {},
   "source": [
    "### 3. Python Basics: Syntax, Variables, and Data Types\n",
    "#### 3.1 Python Syntax\n",
    "Python uses indentation instead of {} to define code blocks."
   ]
  },
  {
   "cell_type": "code",
   "execution_count": 1,
   "id": "6a773c68-8e39-48f4-b243-4c877fb0f218",
   "metadata": {},
   "outputs": [
    {
     "name": "stdout",
     "output_type": "stream",
     "text": [
      "Hello, Data Analyst!\n"
     ]
    }
   ],
   "source": [
    "# Example of indentation\n",
    "def greet():\n",
    "    print(\"Hello, Data Analyst!\")  # This line is inside the function\n",
    "\n",
    "greet()"
   ]
  },
  {
   "cell_type": "markdown",
   "id": "a10967f7-bdc6-416d-8c53-6d10ffa2d89b",
   "metadata": {},
   "source": [
    "💡 Comments start with #:"
   ]
  },
  {
   "cell_type": "code",
   "execution_count": 2,
   "id": "24413750-8076-4005-a31d-9a9ea1edfd98",
   "metadata": {},
   "outputs": [
    {
     "name": "stdout",
     "output_type": "stream",
     "text": [
      "Hello, world!\n"
     ]
    }
   ],
   "source": [
    "# This is a comment\n",
    "print(\"Hello, world!\")  # This prints text"
   ]
  },
  {
   "cell_type": "markdown",
   "id": "3a8f27e6-6959-415d-bf96-5ee380e96c47",
   "metadata": {},
   "source": [
    "#### 3.2 Variables in Python\n",
    "Python does not require explicit variable declarations. The type is assigned automatically."
   ]
  },
  {
   "cell_type": "code",
   "execution_count": 3,
   "id": "d85382c1-f3e2-40d9-bf08-96875c9b7091",
   "metadata": {},
   "outputs": [
    {
     "name": "stdout",
     "output_type": "stream",
     "text": [
      "Alice 25 5.6 True\n"
     ]
    }
   ],
   "source": [
    "# Assigning values to variables\n",
    "name = \"Alice\"  # String\n",
    "age = 25        # Integer\n",
    "height = 5.6    # Float\n",
    "is_employed = True  # Boolean\n",
    "\n",
    "print(name, age, height, is_employed)"
   ]
  },
  {
   "cell_type": "markdown",
   "id": "f8198fa7-69bc-48db-bb94-97a8bd407432",
   "metadata": {},
   "source": [
    "#### 3.3 Data Types in Python\n",
    "🔹 Numeric Types"
   ]
  },
  {
   "cell_type": "code",
   "execution_count": 4,
   "id": "9bfaae57-38d2-431d-9185-51dedb97a82a",
   "metadata": {},
   "outputs": [
    {
     "name": "stdout",
     "output_type": "stream",
     "text": [
      "<class 'int'> <class 'float'> <class 'complex'>\n"
     ]
    }
   ],
   "source": [
    "x = 10    # Integer\n",
    "y = 3.14  # Float\n",
    "z = 2 + 3j  # Complex number\n",
    "\n",
    "print(type(x), type(y), type(z))"
   ]
  },
  {
   "cell_type": "markdown",
   "id": "0aadc949-b12c-4a1e-b3b5-9ee05429d231",
   "metadata": {},
   "source": [
    "🔹 Strings"
   ]
  },
  {
   "cell_type": "code",
   "execution_count": 5,
   "id": "70dd3b9d-83c5-4c78-b7a5-517d8e341ae7",
   "metadata": {},
   "outputs": [
    {
     "name": "stdout",
     "output_type": "stream",
     "text": [
      "PYTHON IS AWESOME!\n",
      "python is awesome!\n",
      "Python\n"
     ]
    }
   ],
   "source": [
    "text = \"Python is awesome!\"\n",
    "print(text.upper())  # Convert to uppercase\n",
    "print(text.lower())  # Convert to lowercase\n",
    "print(text[0:6])  # Slicing (prints \"Python\")"
   ]
  },
  {
   "cell_type": "markdown",
   "id": "3bb236fc-c656-4afe-8f80-e8b38bd8e4fe",
   "metadata": {},
   "source": [
    "🔹 Boolean Type"
   ]
  },
  {
   "cell_type": "code",
   "execution_count": 6,
   "id": "f032b3cb-60f8-4755-8baa-a7b6ab6ef262",
   "metadata": {},
   "outputs": [
    {
     "name": "stdout",
     "output_type": "stream",
     "text": [
      "<class 'bool'>\n"
     ]
    }
   ],
   "source": [
    "is_python_easy = True\n",
    "print(type(is_python_easy))  # Output: <class 'bool'>"
   ]
  },
  {
   "cell_type": "markdown",
   "id": "cbcc5bea-63e9-4084-9205-3d84bb43c5cb",
   "metadata": {},
   "source": [
    "🔹 List (Ordered Collection)"
   ]
  },
  {
   "cell_type": "code",
   "execution_count": 7,
   "id": "cd899d9f-2852-4dea-9684-fe6d9728e46e",
   "metadata": {},
   "outputs": [
    {
     "name": "stdout",
     "output_type": "stream",
     "text": [
      "SQL\n",
      "['SQL', 'Excel', 'Power BI', 'Python']\n"
     ]
    }
   ],
   "source": [
    "skills = [\"SQL\", \"Excel\", \"Power BI\"]\n",
    "print(skills[0])  # Access first element\n",
    "skills.append(\"Python\")  # Add new skill\n",
    "print(skills)"
   ]
  },
  {
   "cell_type": "markdown",
   "id": "dedecbf6-da9a-497a-9c5c-bdf827f7f32b",
   "metadata": {},
   "source": [
    "🔹 Tuple (Immutable Collection)"
   ]
  },
  {
   "cell_type": "code",
   "execution_count": 8,
   "id": "46873e43-9e27-4ba5-bb5c-850b88361f49",
   "metadata": {},
   "outputs": [
    {
     "name": "stdout",
     "output_type": "stream",
     "text": [
      "10\n"
     ]
    }
   ],
   "source": [
    "coordinates = (10, 20)\n",
    "print(coordinates[0])  # Access first element"
   ]
  },
  {
   "cell_type": "markdown",
   "id": "3b093ffb-0dc6-4713-b29f-e7b403f0c218",
   "metadata": {},
   "source": [
    "🔹 Dictionary (Key-Value Pairs)"
   ]
  },
  {
   "cell_type": "code",
   "execution_count": 9,
   "id": "90a9195d-a09e-483c-ad52-31894574b203",
   "metadata": {},
   "outputs": [
    {
     "name": "stdout",
     "output_type": "stream",
     "text": [
      "New York\n"
     ]
    }
   ],
   "source": [
    "contact_info = {\"email\": \"johndoe@email.com\", \"phone\": \"123-456-7890\", \"city\": \"New York\"}\n",
    "print(contact_info[\"city\"])  # Retrieve city"
   ]
  },
  {
   "cell_type": "markdown",
   "id": "4410bfaa-ae3e-4b76-9983-30dc045c9e85",
   "metadata": {},
   "source": [
    "## 4. Hands-On Exercise: Personal Data Summary\n",
    "### 🔹 Task 1: Define Variables  \n",
    "Write a Python script that:  \n",
    "~ Create a variable full_name to store your full name as a string.  \n",
    "~ Create a variable age to store your age as an integer.  \n",
    "~ Create a variable height to store your height in meters as a float.  \n",
    "~ Create a variable is_employed as a Boolean (True if you are employed, False otherwise).  \n",
    "~ Create a list variable skills that stores at least three technical skills you have.  \n",
    "~ Create a dictionary contact_info with keys \"email\", \"phone\", and \"city\" storing relevant values.  "
   ]
  },
  {
   "cell_type": "markdown",
   "id": "0fd232c0-1d52-410f-8510-8825512c5a9c",
   "metadata": {},
   "source": [
    "### **SOLUTION:**"
   ]
  },
  {
   "cell_type": "code",
   "execution_count": 10,
   "id": "ec5a7b5b-f0cb-467b-82ba-3968dfcb0cb7",
   "metadata": {},
   "outputs": [],
   "source": [
    "full_name = \"Ben Smith\"\n",
    "age = 35\n",
    "height = 1.82\n",
    "is_employed = True\n",
    "skills = [\"Excel\", \"SQL\", \"Python\"]\n",
    "contact_info = {\"email\":\"my_email@email.com\", \"phone\":\"+45233233\", \"city\":\"London\"}"
   ]
  },
  {
   "cell_type": "markdown",
   "id": "0f4c797b-e5a3-4a55-a93a-793af45aa89b",
   "metadata": {},
   "source": [
    "### 🔹 Task 2: Perform Operations\n",
    "~ Increase the age variable by 1 year (assuming it's your birthday 🎉).  \n",
    "~ Add a new skill (e.g., \"Power BI\") to the skills list.  \n",
    "~ Convert the full_name variable to uppercase.  \n",
    "~ Retrieve and print the city from contact_info.  "
   ]
  },
  {
   "cell_type": "markdown",
   "id": "d8d608c3-40f3-4a77-8b95-f32d84de8b2f",
   "metadata": {},
   "source": [
    "### **SOLUTION:**"
   ]
  },
  {
   "cell_type": "code",
   "execution_count": 11,
   "id": "f20dfc9f-a558-4dcc-9012-152b44193460",
   "metadata": {},
   "outputs": [
    {
     "name": "stdout",
     "output_type": "stream",
     "text": [
      "London\n"
     ]
    }
   ],
   "source": [
    "age = age + 1\n",
    "skills.append(\"Power BI\")\n",
    "full_name = full_name.upper()\n",
    "print(contact_info[\"city\"])"
   ]
  },
  {
   "cell_type": "markdown",
   "id": "d9c93048-b764-471a-9251-5ef96c1e5a0b",
   "metadata": {},
   "source": [
    "### 🔹 Task 3: Display the Information\n",
    "Using the print() function, format and display the information in the following structured way:"
   ]
  },
  {
   "cell_type": "markdown",
   "id": "03d00e69-852c-438b-8625-bdc920e0e6f1",
   "metadata": {},
   "source": [
    "### **SOLUTION:**"
   ]
  },
  {
   "cell_type": "code",
   "execution_count": 12,
   "id": "61bc99c8-752d-4c96-9d6c-39425a3921ad",
   "metadata": {},
   "outputs": [
    {
     "name": "stdout",
     "output_type": "stream",
     "text": [
      "Personal Data Summary\n",
      "\n",
      "Name: BEN SMITH\n",
      "Age: 36\n",
      "Height: 1.82 meters\n",
      "Employment: True\n",
      "Technical skills: ['Excel', 'SQL', 'Python', 'Power BI']\n",
      "\n",
      "Contact Information:\n",
      "📧 Email: my_email@email.com\n",
      "📞 Phone: +45233233\n",
      "📍 Location: London\n"
     ]
    }
   ],
   "source": [
    "print(\"Personal Data Summary\\n\")  # Newline at the end\n",
    "\n",
    "print(\"Name:\", full_name)\n",
    "print(\"Age:\", age)\n",
    "print(\"Height:\", height, \"meters\")\n",
    "print(\"Employment:\", is_employed)\n",
    "print(\"Technical skills:\", skills)\n",
    "\n",
    "print(\"\\nContact Information:\") # Newline at the beginning\n",
    "print(\"📧 Email:\", contact_info[\"email\"])\n",
    "print(\"📞 Phone:\", contact_info[\"phone\"])\n",
    "print(\"📍 Location:\", contact_info[\"city\"])"
   ]
  },
  {
   "cell_type": "markdown",
   "id": "2c82b091-4481-4a0f-8630-316bf8c5ffaa",
   "metadata": {},
   "source": [
    "### Bonus: Printing lists with items separated by commas, without showing the brackets"
   ]
  },
  {
   "cell_type": "code",
   "execution_count": 13,
   "id": "61b72bfb-111e-4cd5-85ec-54cd4a51968b",
   "metadata": {},
   "outputs": [
    {
     "name": "stdout",
     "output_type": "stream",
     "text": [
      "Personal Data Summary\n",
      "\n",
      "Name: BEN SMITH\n",
      "Age: 36\n",
      "Height: 1.82 meters\n",
      "Employment: True\n",
      "Technical skills: Excel, SQL, Python, Power BI\n",
      "\n",
      "Contact Information:\n",
      "📧 Email: my_email@email.com\n",
      "📞 Phone: +45233233\n",
      "📍 Location: London\n"
     ]
    }
   ],
   "source": [
    "print(\"Personal Data Summary\\n\")  # Newline at the end\n",
    "\n",
    "print(\"Name:\", full_name)\n",
    "print(\"Age:\", age)\n",
    "print(\"Height:\", height, \"meters\")\n",
    "print(\"Employment:\", is_employed)\n",
    "print(\"Technical skills:\", \", \".join(skills))  # Join list items with commas\n",
    "print(\"\\nContact Information:\")\n",
    "print(\"📧 Email:\", contact_info[\"email\"])\n",
    "print(\"📞 Phone:\", contact_info[\"phone\"])\n",
    "print(\"📍 Location:\", contact_info[\"city\"])"
   ]
  }
 ],
 "metadata": {
  "kernelspec": {
   "display_name": "Python 3 (ipykernel)",
   "language": "python",
   "name": "python3"
  },
  "language_info": {
   "codemirror_mode": {
    "name": "ipython",
    "version": 3
   },
   "file_extension": ".py",
   "mimetype": "text/x-python",
   "name": "python",
   "nbconvert_exporter": "python",
   "pygments_lexer": "ipython3",
   "version": "3.10.9"
  }
 },
 "nbformat": 4,
 "nbformat_minor": 5
}
